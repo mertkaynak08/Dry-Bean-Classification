{
 "cells": [
  {
   "cell_type": "code",
   "execution_count": 1,
   "id": "63a0ce0b",
   "metadata": {},
   "outputs": [],
   "source": [
    "import pandas as pd\n",
    "import numpy as np\n",
    "import seaborn as sns\n",
    "import matplotlib.pyplot as plt\n",
    "from sklearn.preprocessing import LabelEncoder\n",
    "from sklearn.model_selection import train_test_split\n",
    "from sklearn.preprocessing import StandardScaler\n",
    "from sklearn.decomposition import PCA\n",
    "from sklearn.feature_selection import SelectKBest, chi2\n",
    "from sklearn.neighbors import KNeighborsClassifier\n",
    "from sklearn.naive_bayes import GaussianNB\n",
    "from sklearn.linear_model import LogisticRegression\n",
    "from sklearn.svm import SVC\n",
    "from sklearn.ensemble import RandomForestClassifier\n",
    "from sklearn.tree import DecisionTreeClassifier\n",
    "from sklearn.metrics import confusion_matrix\n",
    "from sklearn.metrics import accuracy_score\n"
   ]
  },
  {
   "cell_type": "code",
   "execution_count": 2,
   "id": "3e968caa",
   "metadata": {},
   "outputs": [],
   "source": [
    "data = pd.read_excel('bean.xlsx')"
   ]
  },
  {
   "cell_type": "code",
   "execution_count": 3,
   "id": "f69bafdb",
   "metadata": {},
   "outputs": [
    {
     "data": {
      "text/html": [
       "<div>\n",
       "<style scoped>\n",
       "    .dataframe tbody tr th:only-of-type {\n",
       "        vertical-align: middle;\n",
       "    }\n",
       "\n",
       "    .dataframe tbody tr th {\n",
       "        vertical-align: top;\n",
       "    }\n",
       "\n",
       "    .dataframe thead th {\n",
       "        text-align: right;\n",
       "    }\n",
       "</style>\n",
       "<table border=\"1\" class=\"dataframe\">\n",
       "  <thead>\n",
       "    <tr style=\"text-align: right;\">\n",
       "      <th></th>\n",
       "      <th>Area</th>\n",
       "      <th>Perimeter</th>\n",
       "      <th>MajorAxisLength</th>\n",
       "      <th>MinorAxisLength</th>\n",
       "      <th>AspectRation</th>\n",
       "      <th>Eccentricity</th>\n",
       "      <th>ConvexArea</th>\n",
       "      <th>EquivDiameter</th>\n",
       "      <th>Extent</th>\n",
       "      <th>Solidity</th>\n",
       "      <th>roundness</th>\n",
       "      <th>Compactness</th>\n",
       "      <th>ShapeFactor1</th>\n",
       "      <th>ShapeFactor2</th>\n",
       "      <th>ShapeFactor3</th>\n",
       "      <th>ShapeFactor4</th>\n",
       "      <th>Class</th>\n",
       "    </tr>\n",
       "  </thead>\n",
       "  <tbody>\n",
       "    <tr>\n",
       "      <th>6640</th>\n",
       "      <td>55246</td>\n",
       "      <td>926.565</td>\n",
       "      <td>363.289827</td>\n",
       "      <td>194.052228</td>\n",
       "      <td>1.872124</td>\n",
       "      <td>0.845388</td>\n",
       "      <td>55923</td>\n",
       "      <td>265.219516</td>\n",
       "      <td>0.743153</td>\n",
       "      <td>0.987894</td>\n",
       "      <td>0.808647</td>\n",
       "      <td>0.730049</td>\n",
       "      <td>0.006576</td>\n",
       "      <td>0.001152</td>\n",
       "      <td>0.532972</td>\n",
       "      <td>0.997790</td>\n",
       "      <td>HOROZ</td>\n",
       "    </tr>\n",
       "    <tr>\n",
       "      <th>9774</th>\n",
       "      <td>50436</td>\n",
       "      <td>850.438</td>\n",
       "      <td>331.032639</td>\n",
       "      <td>194.329115</td>\n",
       "      <td>1.703464</td>\n",
       "      <td>0.809559</td>\n",
       "      <td>50908</td>\n",
       "      <td>253.410950</td>\n",
       "      <td>0.756684</td>\n",
       "      <td>0.990728</td>\n",
       "      <td>0.876325</td>\n",
       "      <td>0.765517</td>\n",
       "      <td>0.006563</td>\n",
       "      <td>0.001390</td>\n",
       "      <td>0.586016</td>\n",
       "      <td>0.998256</td>\n",
       "      <td>SIRA</td>\n",
       "    </tr>\n",
       "    <tr>\n",
       "      <th>979</th>\n",
       "      <td>39014</td>\n",
       "      <td>709.353</td>\n",
       "      <td>241.775144</td>\n",
       "      <td>205.653958</td>\n",
       "      <td>1.175641</td>\n",
       "      <td>0.525813</td>\n",
       "      <td>39295</td>\n",
       "      <td>222.877023</td>\n",
       "      <td>0.762439</td>\n",
       "      <td>0.992849</td>\n",
       "      <td>0.974329</td>\n",
       "      <td>0.921836</td>\n",
       "      <td>0.006197</td>\n",
       "      <td>0.002760</td>\n",
       "      <td>0.849782</td>\n",
       "      <td>0.999038</td>\n",
       "      <td>SEKER</td>\n",
       "    </tr>\n",
       "    <tr>\n",
       "      <th>11439</th>\n",
       "      <td>30440</td>\n",
       "      <td>640.640</td>\n",
       "      <td>230.034843</td>\n",
       "      <td>168.910045</td>\n",
       "      <td>1.361878</td>\n",
       "      <td>0.678846</td>\n",
       "      <td>30761</td>\n",
       "      <td>196.869022</td>\n",
       "      <td>0.812513</td>\n",
       "      <td>0.989565</td>\n",
       "      <td>0.932023</td>\n",
       "      <td>0.855823</td>\n",
       "      <td>0.007557</td>\n",
       "      <td>0.002501</td>\n",
       "      <td>0.732432</td>\n",
       "      <td>0.997483</td>\n",
       "      <td>DERMASON</td>\n",
       "    </tr>\n",
       "    <tr>\n",
       "      <th>8258</th>\n",
       "      <td>42420</td>\n",
       "      <td>775.479</td>\n",
       "      <td>279.895663</td>\n",
       "      <td>193.887199</td>\n",
       "      <td>1.443601</td>\n",
       "      <td>0.721214</td>\n",
       "      <td>42942</td>\n",
       "      <td>232.402284</td>\n",
       "      <td>0.703098</td>\n",
       "      <td>0.987844</td>\n",
       "      <td>0.886422</td>\n",
       "      <td>0.830318</td>\n",
       "      <td>0.006598</td>\n",
       "      <td>0.001935</td>\n",
       "      <td>0.689427</td>\n",
       "      <td>0.995258</td>\n",
       "      <td>SIRA</td>\n",
       "    </tr>\n",
       "  </tbody>\n",
       "</table>\n",
       "</div>"
      ],
      "text/plain": [
       "        Area  Perimeter  MajorAxisLength  MinorAxisLength  AspectRation  \\\n",
       "6640   55246    926.565       363.289827       194.052228      1.872124   \n",
       "9774   50436    850.438       331.032639       194.329115      1.703464   \n",
       "979    39014    709.353       241.775144       205.653958      1.175641   \n",
       "11439  30440    640.640       230.034843       168.910045      1.361878   \n",
       "8258   42420    775.479       279.895663       193.887199      1.443601   \n",
       "\n",
       "       Eccentricity  ConvexArea  EquivDiameter    Extent  Solidity  roundness  \\\n",
       "6640       0.845388       55923     265.219516  0.743153  0.987894   0.808647   \n",
       "9774       0.809559       50908     253.410950  0.756684  0.990728   0.876325   \n",
       "979        0.525813       39295     222.877023  0.762439  0.992849   0.974329   \n",
       "11439      0.678846       30761     196.869022  0.812513  0.989565   0.932023   \n",
       "8258       0.721214       42942     232.402284  0.703098  0.987844   0.886422   \n",
       "\n",
       "       Compactness  ShapeFactor1  ShapeFactor2  ShapeFactor3  ShapeFactor4  \\\n",
       "6640      0.730049      0.006576      0.001152      0.532972      0.997790   \n",
       "9774      0.765517      0.006563      0.001390      0.586016      0.998256   \n",
       "979       0.921836      0.006197      0.002760      0.849782      0.999038   \n",
       "11439     0.855823      0.007557      0.002501      0.732432      0.997483   \n",
       "8258      0.830318      0.006598      0.001935      0.689427      0.995258   \n",
       "\n",
       "          Class  \n",
       "6640      HOROZ  \n",
       "9774       SIRA  \n",
       "979       SEKER  \n",
       "11439  DERMASON  \n",
       "8258       SIRA  "
      ]
     },
     "execution_count": 3,
     "metadata": {},
     "output_type": "execute_result"
    }
   ],
   "source": [
    "data.sample(5)"
   ]
  },
  {
   "cell_type": "code",
   "execution_count": 4,
   "id": "55d5c1a9",
   "metadata": {},
   "outputs": [
    {
     "data": {
      "text/plain": [
       "0           SEKER\n",
       "1           SEKER\n",
       "2           SEKER\n",
       "3           SEKER\n",
       "4           SEKER\n",
       "           ...   \n",
       "13606    DERMASON\n",
       "13607    DERMASON\n",
       "13608    DERMASON\n",
       "13609    DERMASON\n",
       "13610    DERMASON\n",
       "Name: Class, Length: 13611, dtype: object"
      ]
     },
     "execution_count": 4,
     "metadata": {},
     "output_type": "execute_result"
    }
   ],
   "source": [
    "data['Class']"
   ]
  },
  {
   "cell_type": "code",
   "execution_count": 5,
   "id": "86b9515d",
   "metadata": {},
   "outputs": [],
   "source": [
    "data = data.drop_duplicates()"
   ]
  },
  {
   "cell_type": "code",
   "execution_count": 6,
   "id": "24f8f208",
   "metadata": {},
   "outputs": [
    {
     "name": "stdout",
     "output_type": "stream",
     "text": [
      "<class 'pandas.core.frame.DataFrame'>\n",
      "Index: 13543 entries, 0 to 13610\n",
      "Data columns (total 17 columns):\n",
      " #   Column           Non-Null Count  Dtype  \n",
      "---  ------           --------------  -----  \n",
      " 0   Area             13543 non-null  int64  \n",
      " 1   Perimeter        13543 non-null  float64\n",
      " 2   MajorAxisLength  13543 non-null  float64\n",
      " 3   MinorAxisLength  13543 non-null  float64\n",
      " 4   AspectRation     13543 non-null  float64\n",
      " 5   Eccentricity     13543 non-null  float64\n",
      " 6   ConvexArea       13543 non-null  int64  \n",
      " 7   EquivDiameter    13543 non-null  float64\n",
      " 8   Extent           13543 non-null  float64\n",
      " 9   Solidity         13543 non-null  float64\n",
      " 10  roundness        13543 non-null  float64\n",
      " 11  Compactness      13543 non-null  float64\n",
      " 12  ShapeFactor1     13543 non-null  float64\n",
      " 13  ShapeFactor2     13543 non-null  float64\n",
      " 14  ShapeFactor3     13543 non-null  float64\n",
      " 15  ShapeFactor4     13543 non-null  float64\n",
      " 16  Class            13543 non-null  object \n",
      "dtypes: float64(14), int64(2), object(1)\n",
      "memory usage: 1.9+ MB\n"
     ]
    }
   ],
   "source": [
    "data.info()"
   ]
  },
  {
   "cell_type": "code",
   "execution_count": 7,
   "id": "2527e256",
   "metadata": {},
   "outputs": [
    {
     "data": {
      "text/plain": [
       "(13543, 17)"
      ]
     },
     "execution_count": 7,
     "metadata": {},
     "output_type": "execute_result"
    }
   ],
   "source": [
    "data.shape"
   ]
  },
  {
   "cell_type": "code",
   "execution_count": 8,
   "id": "1a6c416b",
   "metadata": {},
   "outputs": [
    {
     "data": {
      "text/plain": [
       "Area               0\n",
       "Perimeter          0\n",
       "MajorAxisLength    0\n",
       "MinorAxisLength    0\n",
       "AspectRation       0\n",
       "Eccentricity       0\n",
       "ConvexArea         0\n",
       "EquivDiameter      0\n",
       "Extent             0\n",
       "Solidity           0\n",
       "roundness          0\n",
       "Compactness        0\n",
       "ShapeFactor1       0\n",
       "ShapeFactor2       0\n",
       "ShapeFactor3       0\n",
       "ShapeFactor4       0\n",
       "Class              0\n",
       "dtype: int64"
      ]
     },
     "execution_count": 8,
     "metadata": {},
     "output_type": "execute_result"
    }
   ],
   "source": [
    "data.isnull().sum()"
   ]
  },
  {
   "cell_type": "code",
   "execution_count": 9,
   "id": "9a5bfd41",
   "metadata": {},
   "outputs": [
    {
     "data": {
      "text/plain": [
       "array(['SEKER', 'BARBUNYA', 'BOMBAY', 'CALI', 'HOROZ', 'SIRA', 'DERMASON'],\n",
       "      dtype=object)"
      ]
     },
     "execution_count": 9,
     "metadata": {},
     "output_type": "execute_result"
    }
   ],
   "source": [
    "data['Class'].unique()"
   ]
  },
  {
   "cell_type": "code",
   "execution_count": 10,
   "id": "75de0a5f",
   "metadata": {},
   "outputs": [
    {
     "data": {
      "text/plain": [
       "Class\n",
       "DERMASON    3546\n",
       "SIRA        2636\n",
       "SEKER       2027\n",
       "HOROZ       1860\n",
       "CALI        1630\n",
       "BARBUNYA    1322\n",
       "BOMBAY       522\n",
       "Name: count, dtype: int64"
      ]
     },
     "execution_count": 10,
     "metadata": {},
     "output_type": "execute_result"
    }
   ],
   "source": [
    "data[\"Class\"].value_counts()"
   ]
  },
  {
   "cell_type": "code",
   "execution_count": 11,
   "id": "91656b6f",
   "metadata": {},
   "outputs": [
    {
     "data": {
      "text/plain": [
       "<Axes: xlabel='Class', ylabel='count'>"
      ]
     },
     "execution_count": 11,
     "metadata": {},
     "output_type": "execute_result"
    },
    {
     "data": {
      "image/png": "[encoded data removed]",
      "text/plain": [
       "<Figure size 640x480 with 1 Axes>"
      ]
     },
     "metadata": {},
     "output_type": "display_data"
    }
   ],
   "source": [
    "sns.countplot(x='Class', data = data)"
   ]
  },
  {
   "cell_type": "code",
   "execution_count": 12,
   "id": "f7ed7db5",
   "metadata": {},
   "outputs": [],
   "source": [
    "labelencoder = LabelEncoder()\n",
    "data[\"Class\"] = labelencoder.fit_transform(data['Class'])"
   ]
  },
  {
   "cell_type": "code",
   "execution_count": 13,
   "id": "a294c188",
   "metadata": {},
   "outputs": [
    {
     "data": {
      "text/html": [
       "<div>\n",
       "<style scoped>\n",
       "    .dataframe tbody tr th:only-of-type {\n",
       "        vertical-align: middle;\n",
       "    }\n",
       "\n",
       "    .dataframe tbody tr th {\n",
       "        vertical-align: top;\n",
       "    }\n",
       "\n",
       "    .dataframe thead th {\n",
       "        text-align: right;\n",
       "    }\n",
       "</style>\n",
       "<table border=\"1\" class=\"dataframe\">\n",
       "  <thead>\n",
       "    <tr style=\"text-align: right;\">\n",
       "      <th></th>\n",
       "      <th>Area</th>\n",
       "      <th>Perimeter</th>\n",
       "      <th>MajorAxisLength</th>\n",
       "      <th>MinorAxisLength</th>\n",
       "      <th>AspectRation</th>\n",
       "      <th>Eccentricity</th>\n",
       "      <th>ConvexArea</th>\n",
       "      <th>EquivDiameter</th>\n",
       "      <th>Extent</th>\n",
       "      <th>Solidity</th>\n",
       "      <th>roundness</th>\n",
       "      <th>Compactness</th>\n",
       "      <th>ShapeFactor1</th>\n",
       "      <th>ShapeFactor2</th>\n",
       "      <th>ShapeFactor3</th>\n",
       "      <th>ShapeFactor4</th>\n",
       "      <th>Class</th>\n",
       "    </tr>\n",
       "  </thead>\n",
       "  <tbody>\n",
       "    <tr>\n",
       "      <th>Area</th>\n",
       "      <td>1.000000</td>\n",
       "      <td>0.966908</td>\n",
       "      <td>0.932623</td>\n",
       "      <td>0.952041</td>\n",
       "      <td>0.243698</td>\n",
       "      <td>0.268580</td>\n",
       "      <td>0.999940</td>\n",
       "      <td>0.984998</td>\n",
       "      <td>0.054648</td>\n",
       "      <td>-0.197333</td>\n",
       "      <td>-0.359068</td>\n",
       "      <td>-0.269797</td>\n",
       "      <td>-0.848390</td>\n",
       "      <td>-0.641208</td>\n",
       "      <td>-0.273754</td>\n",
       "      <td>-0.358019</td>\n",
       "      <td>-0.475413</td>\n",
       "    </tr>\n",
       "    <tr>\n",
       "      <th>Perimeter</th>\n",
       "      <td>0.966908</td>\n",
       "      <td>1.000000</td>\n",
       "      <td>0.977561</td>\n",
       "      <td>0.914336</td>\n",
       "      <td>0.386097</td>\n",
       "      <td>0.391062</td>\n",
       "      <td>0.967871</td>\n",
       "      <td>0.991453</td>\n",
       "      <td>-0.020620</td>\n",
       "      <td>-0.304662</td>\n",
       "      <td>-0.548336</td>\n",
       "      <td>-0.407426</td>\n",
       "      <td>-0.865756</td>\n",
       "      <td>-0.768590</td>\n",
       "      <td>-0.408888</td>\n",
       "      <td>-0.431215</td>\n",
       "      <td>-0.508315</td>\n",
       "    </tr>\n",
       "    <tr>\n",
       "      <th>MajorAxisLength</th>\n",
       "      <td>0.932623</td>\n",
       "      <td>0.977561</td>\n",
       "      <td>1.000000</td>\n",
       "      <td>0.828360</td>\n",
       "      <td>0.550075</td>\n",
       "      <td>0.541011</td>\n",
       "      <td>0.933392</td>\n",
       "      <td>0.962271</td>\n",
       "      <td>-0.077287</td>\n",
       "      <td>-0.284857</td>\n",
       "      <td>-0.595710</td>\n",
       "      <td>-0.567902</td>\n",
       "      <td>-0.775840</td>\n",
       "      <td>-0.859401</td>\n",
       "      <td>-0.567607</td>\n",
       "      <td>-0.484464</td>\n",
       "      <td>-0.456515</td>\n",
       "    </tr>\n",
       "    <tr>\n",
       "      <th>MinorAxisLength</th>\n",
       "      <td>0.952041</td>\n",
       "      <td>0.914336</td>\n",
       "      <td>0.828360</td>\n",
       "      <td>1.000000</td>\n",
       "      <td>-0.005354</td>\n",
       "      <td>0.022391</td>\n",
       "      <td>0.951780</td>\n",
       "      <td>0.949214</td>\n",
       "      <td>0.145906</td>\n",
       "      <td>-0.156819</td>\n",
       "      <td>-0.214090</td>\n",
       "      <td>-0.018618</td>\n",
       "      <td>-0.947194</td>\n",
       "      <td>-0.475326</td>\n",
       "      <td>-0.022744</td>\n",
       "      <td>-0.266402</td>\n",
       "      <td>-0.458347</td>\n",
       "    </tr>\n",
       "    <tr>\n",
       "      <th>AspectRation</th>\n",
       "      <td>0.243698</td>\n",
       "      <td>0.386097</td>\n",
       "      <td>0.550075</td>\n",
       "      <td>-0.005354</td>\n",
       "      <td>1.000000</td>\n",
       "      <td>0.924185</td>\n",
       "      <td>0.245267</td>\n",
       "      <td>0.305237</td>\n",
       "      <td>-0.371234</td>\n",
       "      <td>-0.269110</td>\n",
       "      <td>-0.764975</td>\n",
       "      <td>-0.987644</td>\n",
       "      <td>0.020875</td>\n",
       "      <td>-0.837338</td>\n",
       "      <td>-0.978528</td>\n",
       "      <td>-0.451598</td>\n",
       "      <td>-0.119588</td>\n",
       "    </tr>\n",
       "    <tr>\n",
       "      <th>Eccentricity</th>\n",
       "      <td>0.268580</td>\n",
       "      <td>0.391062</td>\n",
       "      <td>0.541011</td>\n",
       "      <td>0.022391</td>\n",
       "      <td>0.924185</td>\n",
       "      <td>1.000000</td>\n",
       "      <td>0.270350</td>\n",
       "      <td>0.319360</td>\n",
       "      <td>-0.319678</td>\n",
       "      <td>-0.298282</td>\n",
       "      <td>-0.720138</td>\n",
       "      <td>-0.970308</td>\n",
       "      <td>0.017266</td>\n",
       "      <td>-0.859246</td>\n",
       "      <td>-0.981058</td>\n",
       "      <td>-0.450611</td>\n",
       "      <td>-0.202824</td>\n",
       "    </tr>\n",
       "    <tr>\n",
       "      <th>ConvexArea</th>\n",
       "      <td>0.999940</td>\n",
       "      <td>0.967871</td>\n",
       "      <td>0.933392</td>\n",
       "      <td>0.951780</td>\n",
       "      <td>0.245267</td>\n",
       "      <td>0.270350</td>\n",
       "      <td>1.000000</td>\n",
       "      <td>0.985255</td>\n",
       "      <td>0.052864</td>\n",
       "      <td>-0.206901</td>\n",
       "      <td>-0.363620</td>\n",
       "      <td>-0.271651</td>\n",
       "      <td>-0.848382</td>\n",
       "      <td>-0.642773</td>\n",
       "      <td>-0.275631</td>\n",
       "      <td>-0.364302</td>\n",
       "      <td>-0.477624</td>\n",
       "    </tr>\n",
       "    <tr>\n",
       "      <th>EquivDiameter</th>\n",
       "      <td>0.984998</td>\n",
       "      <td>0.991453</td>\n",
       "      <td>0.962271</td>\n",
       "      <td>0.949214</td>\n",
       "      <td>0.305237</td>\n",
       "      <td>0.319360</td>\n",
       "      <td>0.985255</td>\n",
       "      <td>1.000000</td>\n",
       "      <td>0.028762</td>\n",
       "      <td>-0.232344</td>\n",
       "      <td>-0.437189</td>\n",
       "      <td>-0.328980</td>\n",
       "      <td>-0.893403</td>\n",
       "      <td>-0.714693</td>\n",
       "      <td>-0.331594</td>\n",
       "      <td>-0.394693</td>\n",
       "      <td>-0.481452</td>\n",
       "    </tr>\n",
       "    <tr>\n",
       "      <th>Extent</th>\n",
       "      <td>0.054648</td>\n",
       "      <td>-0.020620</td>\n",
       "      <td>-0.077287</td>\n",
       "      <td>0.145906</td>\n",
       "      <td>-0.371234</td>\n",
       "      <td>-0.319678</td>\n",
       "      <td>0.052864</td>\n",
       "      <td>0.028762</td>\n",
       "      <td>1.000000</td>\n",
       "      <td>0.192268</td>\n",
       "      <td>0.344510</td>\n",
       "      <td>0.354912</td>\n",
       "      <td>-0.141525</td>\n",
       "      <td>0.237584</td>\n",
       "      <td>0.348226</td>\n",
       "      <td>0.148622</td>\n",
       "      <td>-0.030855</td>\n",
       "    </tr>\n",
       "    <tr>\n",
       "      <th>Solidity</th>\n",
       "      <td>-0.197333</td>\n",
       "      <td>-0.304662</td>\n",
       "      <td>-0.284857</td>\n",
       "      <td>-0.156819</td>\n",
       "      <td>-0.269110</td>\n",
       "      <td>-0.298282</td>\n",
       "      <td>-0.206901</td>\n",
       "      <td>-0.232344</td>\n",
       "      <td>0.192268</td>\n",
       "      <td>1.000000</td>\n",
       "      <td>0.609668</td>\n",
       "      <td>0.304802</td>\n",
       "      <td>0.154346</td>\n",
       "      <td>0.344337</td>\n",
       "      <td>0.308614</td>\n",
       "      <td>0.700150</td>\n",
       "      <td>0.323356</td>\n",
       "    </tr>\n",
       "    <tr>\n",
       "      <th>roundness</th>\n",
       "      <td>-0.359068</td>\n",
       "      <td>-0.548336</td>\n",
       "      <td>-0.595710</td>\n",
       "      <td>-0.214090</td>\n",
       "      <td>-0.764975</td>\n",
       "      <td>-0.720138</td>\n",
       "      <td>-0.363620</td>\n",
       "      <td>-0.437189</td>\n",
       "      <td>0.344510</td>\n",
       "      <td>0.609668</td>\n",
       "      <td>1.000000</td>\n",
       "      <td>0.765995</td>\n",
       "      <td>0.234158</td>\n",
       "      <td>0.781468</td>\n",
       "      <td>0.761012</td>\n",
       "      <td>0.472776</td>\n",
       "      <td>0.388505</td>\n",
       "    </tr>\n",
       "    <tr>\n",
       "      <th>Compactness</th>\n",
       "      <td>-0.269797</td>\n",
       "      <td>-0.407426</td>\n",
       "      <td>-0.567902</td>\n",
       "      <td>-0.018618</td>\n",
       "      <td>-0.987644</td>\n",
       "      <td>-0.970308</td>\n",
       "      <td>-0.271651</td>\n",
       "      <td>-0.328980</td>\n",
       "      <td>0.354912</td>\n",
       "      <td>0.304802</td>\n",
       "      <td>0.765995</td>\n",
       "      <td>1.000000</td>\n",
       "      <td>-0.005980</td>\n",
       "      <td>0.868347</td>\n",
       "      <td>0.998684</td>\n",
       "      <td>0.486334</td>\n",
       "      <td>0.159293</td>\n",
       "    </tr>\n",
       "    <tr>\n",
       "      <th>ShapeFactor1</th>\n",
       "      <td>-0.848390</td>\n",
       "      <td>-0.865756</td>\n",
       "      <td>-0.775840</td>\n",
       "      <td>-0.947194</td>\n",
       "      <td>0.020875</td>\n",
       "      <td>0.017266</td>\n",
       "      <td>-0.848382</td>\n",
       "      <td>-0.893403</td>\n",
       "      <td>-0.141525</td>\n",
       "      <td>0.154346</td>\n",
       "      <td>0.234158</td>\n",
       "      <td>-0.005980</td>\n",
       "      <td>1.000000</td>\n",
       "      <td>0.473239</td>\n",
       "      <td>-0.005050</td>\n",
       "      <td>0.251164</td>\n",
       "      <td>0.391842</td>\n",
       "    </tr>\n",
       "    <tr>\n",
       "      <th>ShapeFactor2</th>\n",
       "      <td>-0.641208</td>\n",
       "      <td>-0.768590</td>\n",
       "      <td>-0.859401</td>\n",
       "      <td>-0.475326</td>\n",
       "      <td>-0.837338</td>\n",
       "      <td>-0.859246</td>\n",
       "      <td>-0.642773</td>\n",
       "      <td>-0.714693</td>\n",
       "      <td>0.237584</td>\n",
       "      <td>0.344337</td>\n",
       "      <td>0.781468</td>\n",
       "      <td>0.868347</td>\n",
       "      <td>0.473239</td>\n",
       "      <td>1.000000</td>\n",
       "      <td>0.872318</td>\n",
       "      <td>0.531733</td>\n",
       "      <td>0.337656</td>\n",
       "    </tr>\n",
       "    <tr>\n",
       "      <th>ShapeFactor3</th>\n",
       "      <td>-0.273754</td>\n",
       "      <td>-0.408888</td>\n",
       "      <td>-0.567607</td>\n",
       "      <td>-0.022744</td>\n",
       "      <td>-0.978528</td>\n",
       "      <td>-0.981058</td>\n",
       "      <td>-0.275631</td>\n",
       "      <td>-0.331594</td>\n",
       "      <td>0.348226</td>\n",
       "      <td>0.308614</td>\n",
       "      <td>0.761012</td>\n",
       "      <td>0.998684</td>\n",
       "      <td>-0.005050</td>\n",
       "      <td>0.872318</td>\n",
       "      <td>1.000000</td>\n",
       "      <td>0.486029</td>\n",
       "      <td>0.170656</td>\n",
       "    </tr>\n",
       "    <tr>\n",
       "      <th>ShapeFactor4</th>\n",
       "      <td>-0.358019</td>\n",
       "      <td>-0.431215</td>\n",
       "      <td>-0.484464</td>\n",
       "      <td>-0.266402</td>\n",
       "      <td>-0.451598</td>\n",
       "      <td>-0.450611</td>\n",
       "      <td>-0.364302</td>\n",
       "      <td>-0.394693</td>\n",
       "      <td>0.148622</td>\n",
       "      <td>0.700150</td>\n",
       "      <td>0.472776</td>\n",
       "      <td>0.486334</td>\n",
       "      <td>0.251164</td>\n",
       "      <td>0.531733</td>\n",
       "      <td>0.486029</td>\n",
       "      <td>1.000000</td>\n",
       "      <td>0.167118</td>\n",
       "    </tr>\n",
       "    <tr>\n",
       "      <th>Class</th>\n",
       "      <td>-0.475413</td>\n",
       "      <td>-0.508315</td>\n",
       "      <td>-0.456515</td>\n",
       "      <td>-0.458347</td>\n",
       "      <td>-0.119588</td>\n",
       "      <td>-0.202824</td>\n",
       "      <td>-0.477624</td>\n",
       "      <td>-0.481452</td>\n",
       "      <td>-0.030855</td>\n",
       "      <td>0.323356</td>\n",
       "      <td>0.388505</td>\n",
       "      <td>0.159293</td>\n",
       "      <td>0.391842</td>\n",
       "      <td>0.337656</td>\n",
       "      <td>0.170656</td>\n",
       "      <td>0.167118</td>\n",
       "      <td>1.000000</td>\n",
       "    </tr>\n",
       "  </tbody>\n",
       "</table>\n",
       "</div>"
      ],
      "text/plain": [
       "                     Area  Perimeter  MajorAxisLength  MinorAxisLength  \\\n",
       "Area             1.000000   0.966908         0.932623         0.952041   \n",
       "Perimeter        0.966908   1.000000         0.977561         0.914336   \n",
       "MajorAxisLength  0.932623   0.977561         1.000000         0.828360   \n",
       "MinorAxisLength  0.952041   0.914336         0.828360         1.000000   \n",
       "AspectRation     0.243698   0.386097         0.550075        -0.005354   \n",
       "Eccentricity     0.268580   0.391062         0.541011         0.022391   \n",
       "ConvexArea       0.999940   0.967871         0.933392         0.951780   \n",
       "EquivDiameter    0.984998   0.991453         0.962271         0.949214   \n",
       "Extent           0.054648  -0.020620        -0.077287         0.145906   \n",
       "Solidity        -0.197333  -0.304662        -0.284857        -0.156819   \n",
       "roundness       -0.359068  -0.548336        -0.595710        -0.214090   \n",
       "Compactness     -0.269797  -0.407426        -0.567902        -0.018618   \n",
       "ShapeFactor1    -0.848390  -0.865756        -0.775840        -0.947194   \n",
       "ShapeFactor2    -0.641208  -0.768590        -0.859401        -0.475326   \n",
       "ShapeFactor3    -0.273754  -0.408888        -0.567607        -0.022744   \n",
       "ShapeFactor4    -0.358019  -0.431215        -0.484464        -0.266402   \n",
       "Class           -0.475413  -0.508315        -0.456515        -0.458347   \n",
       "\n",
       "                 AspectRation  Eccentricity  ConvexArea  EquivDiameter  \\\n",
       "Area                 0.243698      0.268580    0.999940       0.984998   \n",
       "Perimeter            0.386097      0.391062    0.967871       0.991453   \n",
       "MajorAxisLength      0.550075      0.541011    0.933392       0.962271   \n",
       "MinorAxisLength     -0.005354      0.022391    0.951780       0.949214   \n",
       "AspectRation         1.000000      0.924185    0.245267       0.305237   \n",
       "Eccentricity         0.924185      1.000000    0.270350       0.319360   \n",
       "ConvexArea           0.245267      0.270350    1.000000       0.985255   \n",
       "EquivDiameter        0.305237      0.319360    0.985255       1.000000   \n",
       "Extent              -0.371234     -0.319678    0.052864       0.028762   \n",
       "Solidity            -0.269110     -0.298282   -0.206901      -0.232344   \n",
       "roundness           -0.764975     -0.720138   -0.363620      -0.437189   \n",
       "Compactness         -0.987644     -0.970308   -0.271651      -0.328980   \n",
       "ShapeFactor1         0.020875      0.017266   -0.848382      -0.893403   \n",
       "ShapeFactor2        -0.837338     -0.859246   -0.642773      -0.714693   \n",
       "ShapeFactor3        -0.978528     -0.981058   -0.275631      -0.331594   \n",
       "ShapeFactor4        -0.451598     -0.450611   -0.364302      -0.394693   \n",
       "Class               -0.119588     -0.202824   -0.477624      -0.481452   \n",
       "\n",
       "                   Extent  Solidity  roundness  Compactness  ShapeFactor1  \\\n",
       "Area             0.054648 -0.197333  -0.359068    -0.269797     -0.848390   \n",
       "Perimeter       -0.020620 -0.304662  -0.548336    -0.407426     -0.865756   \n",
       "MajorAxisLength -0.077287 -0.284857  -0.595710    -0.567902     -0.775840   \n",
       "MinorAxisLength  0.145906 -0.156819  -0.214090    -0.018618     -0.947194   \n",
       "AspectRation    -0.371234 -0.269110  -0.764975    -0.987644      0.020875   \n",
       "Eccentricity    -0.319678 -0.298282  -0.720138    -0.970308      0.017266   \n",
       "ConvexArea       0.052864 -0.206901  -0.363620    -0.271651     -0.848382   \n",
       "EquivDiameter    0.028762 -0.232344  -0.437189    -0.328980     -0.893403   \n",
       "Extent           1.000000  0.192268   0.344510     0.354912     -0.141525   \n",
       "Solidity         0.192268  1.000000   0.609668     0.304802      0.154346   \n",
       "roundness        0.344510  0.609668   1.000000     0.765995      0.234158   \n",
       "Compactness      0.354912  0.304802   0.765995     1.000000     -0.005980   \n",
       "ShapeFactor1    -0.141525  0.154346   0.234158    -0.005980      1.000000   \n",
       "ShapeFactor2     0.237584  0.344337   0.781468     0.868347      0.473239   \n",
       "ShapeFactor3     0.348226  0.308614   0.761012     0.998684     -0.005050   \n",
       "ShapeFactor4     0.148622  0.700150   0.472776     0.486334      0.251164   \n",
       "Class           -0.030855  0.323356   0.388505     0.159293      0.391842   \n",
       "\n",
       "                 ShapeFactor2  ShapeFactor3  ShapeFactor4     Class  \n",
       "Area                -0.641208     -0.273754     -0.358019 -0.475413  \n",
       "Perimeter           -0.768590     -0.408888     -0.431215 -0.508315  \n",
       "MajorAxisLength     -0.859401     -0.567607     -0.484464 -0.456515  \n",
       "MinorAxisLength     -0.475326     -0.022744     -0.266402 -0.458347  \n",
       "AspectRation        -0.837338     -0.978528     -0.451598 -0.119588  \n",
       "Eccentricity        -0.859246     -0.981058     -0.450611 -0.202824  \n",
       "ConvexArea          -0.642773     -0.275631     -0.364302 -0.477624  \n",
       "EquivDiameter       -0.714693     -0.331594     -0.394693 -0.481452  \n",
       "Extent               0.237584      0.348226      0.148622 -0.030855  \n",
       "Solidity             0.344337      0.308614      0.700150  0.323356  \n",
       "roundness            0.781468      0.761012      0.472776  0.388505  \n",
       "Compactness          0.868347      0.998684      0.486334  0.159293  \n",
       "ShapeFactor1         0.473239     -0.005050      0.251164  0.391842  \n",
       "ShapeFactor2         1.000000      0.872318      0.531733  0.337656  \n",
       "ShapeFactor3         0.872318      1.000000      0.486029  0.170656  \n",
       "ShapeFactor4         0.531733      0.486029      1.000000  0.167118  \n",
       "Class                0.337656      0.170656      0.167118  1.000000  "
      ]
     },
     "execution_count": 13,
     "metadata": {},
     "output_type": "execute_result"
    }
   ],
   "source": [
    "data.corr()"
   ]
  },
  {
   "cell_type": "code",
   "execution_count": 14,
   "id": "54bb8159",
   "metadata": {},
   "outputs": [
    {
     "data": {
      "image/png": "[encoded data removed]",
      "text/plain": [
       "<Figure size 1200x1200 with 2 Axes>"
      ]
     },
     "metadata": {},
     "output_type": "display_data"
    }
   ],
   "source": [
    "plt.figure(figsize=(12,12))\n",
    "sns.heatmap(data.corr(), annot=True, cmap=plt.cm.Purples)\n",
    "plt.show()"
   ]
  },
  {
   "cell_type": "code",
   "execution_count": 15,
   "id": "7a962e8f",
   "metadata": {},
   "outputs": [],
   "source": [
    "x = data.iloc[:,0:16]\n",
    "y = data.iloc[:,16:]"
   ]
  },
  {
   "cell_type": "code",
   "execution_count": 16,
   "id": "5179767b",
   "metadata": {},
   "outputs": [
    {
     "data": {
      "text/html": [
       "<div>\n",
       "<style scoped>\n",
       "    .dataframe tbody tr th:only-of-type {\n",
       "        vertical-align: middle;\n",
       "    }\n",
       "\n",
       "    .dataframe tbody tr th {\n",
       "        vertical-align: top;\n",
       "    }\n",
       "\n",
       "    .dataframe thead th {\n",
       "        text-align: right;\n",
       "    }\n",
       "</style>\n",
       "<table border=\"1\" class=\"dataframe\">\n",
       "  <thead>\n",
       "    <tr style=\"text-align: right;\">\n",
       "      <th></th>\n",
       "      <th>Area</th>\n",
       "      <th>Perimeter</th>\n",
       "      <th>MajorAxisLength</th>\n",
       "      <th>MinorAxisLength</th>\n",
       "      <th>AspectRation</th>\n",
       "      <th>Eccentricity</th>\n",
       "      <th>ConvexArea</th>\n",
       "      <th>EquivDiameter</th>\n",
       "      <th>Extent</th>\n",
       "      <th>Solidity</th>\n",
       "      <th>roundness</th>\n",
       "      <th>Compactness</th>\n",
       "      <th>ShapeFactor1</th>\n",
       "      <th>ShapeFactor2</th>\n",
       "      <th>ShapeFactor3</th>\n",
       "      <th>ShapeFactor4</th>\n",
       "    </tr>\n",
       "  </thead>\n",
       "  <tbody>\n",
       "    <tr>\n",
       "      <th>0</th>\n",
       "      <td>28395</td>\n",
       "      <td>610.291</td>\n",
       "      <td>208.178117</td>\n",
       "      <td>173.888747</td>\n",
       "      <td>1.197191</td>\n",
       "      <td>0.549812</td>\n",
       "      <td>28715</td>\n",
       "      <td>190.141097</td>\n",
       "      <td>0.763923</td>\n",
       "      <td>0.988856</td>\n",
       "      <td>0.958027</td>\n",
       "      <td>0.913358</td>\n",
       "      <td>0.007332</td>\n",
       "      <td>0.003147</td>\n",
       "      <td>0.834222</td>\n",
       "      <td>0.998724</td>\n",
       "    </tr>\n",
       "    <tr>\n",
       "      <th>1</th>\n",
       "      <td>28734</td>\n",
       "      <td>638.018</td>\n",
       "      <td>200.524796</td>\n",
       "      <td>182.734419</td>\n",
       "      <td>1.097356</td>\n",
       "      <td>0.411785</td>\n",
       "      <td>29172</td>\n",
       "      <td>191.272750</td>\n",
       "      <td>0.783968</td>\n",
       "      <td>0.984986</td>\n",
       "      <td>0.887034</td>\n",
       "      <td>0.953861</td>\n",
       "      <td>0.006979</td>\n",
       "      <td>0.003564</td>\n",
       "      <td>0.909851</td>\n",
       "      <td>0.998430</td>\n",
       "    </tr>\n",
       "    <tr>\n",
       "      <th>2</th>\n",
       "      <td>29380</td>\n",
       "      <td>624.110</td>\n",
       "      <td>212.826130</td>\n",
       "      <td>175.931143</td>\n",
       "      <td>1.209713</td>\n",
       "      <td>0.562727</td>\n",
       "      <td>29690</td>\n",
       "      <td>193.410904</td>\n",
       "      <td>0.778113</td>\n",
       "      <td>0.989559</td>\n",
       "      <td>0.947849</td>\n",
       "      <td>0.908774</td>\n",
       "      <td>0.007244</td>\n",
       "      <td>0.003048</td>\n",
       "      <td>0.825871</td>\n",
       "      <td>0.999066</td>\n",
       "    </tr>\n",
       "    <tr>\n",
       "      <th>3</th>\n",
       "      <td>30008</td>\n",
       "      <td>645.884</td>\n",
       "      <td>210.557999</td>\n",
       "      <td>182.516516</td>\n",
       "      <td>1.153638</td>\n",
       "      <td>0.498616</td>\n",
       "      <td>30724</td>\n",
       "      <td>195.467062</td>\n",
       "      <td>0.782681</td>\n",
       "      <td>0.976696</td>\n",
       "      <td>0.903936</td>\n",
       "      <td>0.928329</td>\n",
       "      <td>0.007017</td>\n",
       "      <td>0.003215</td>\n",
       "      <td>0.861794</td>\n",
       "      <td>0.994199</td>\n",
       "    </tr>\n",
       "    <tr>\n",
       "      <th>4</th>\n",
       "      <td>30140</td>\n",
       "      <td>620.134</td>\n",
       "      <td>201.847882</td>\n",
       "      <td>190.279279</td>\n",
       "      <td>1.060798</td>\n",
       "      <td>0.333680</td>\n",
       "      <td>30417</td>\n",
       "      <td>195.896503</td>\n",
       "      <td>0.773098</td>\n",
       "      <td>0.990893</td>\n",
       "      <td>0.984877</td>\n",
       "      <td>0.970516</td>\n",
       "      <td>0.006697</td>\n",
       "      <td>0.003665</td>\n",
       "      <td>0.941900</td>\n",
       "      <td>0.999166</td>\n",
       "    </tr>\n",
       "    <tr>\n",
       "      <th>...</th>\n",
       "      <td>...</td>\n",
       "      <td>...</td>\n",
       "      <td>...</td>\n",
       "      <td>...</td>\n",
       "      <td>...</td>\n",
       "      <td>...</td>\n",
       "      <td>...</td>\n",
       "      <td>...</td>\n",
       "      <td>...</td>\n",
       "      <td>...</td>\n",
       "      <td>...</td>\n",
       "      <td>...</td>\n",
       "      <td>...</td>\n",
       "      <td>...</td>\n",
       "      <td>...</td>\n",
       "      <td>...</td>\n",
       "    </tr>\n",
       "    <tr>\n",
       "      <th>13606</th>\n",
       "      <td>42097</td>\n",
       "      <td>759.696</td>\n",
       "      <td>288.721612</td>\n",
       "      <td>185.944705</td>\n",
       "      <td>1.552728</td>\n",
       "      <td>0.765002</td>\n",
       "      <td>42508</td>\n",
       "      <td>231.515799</td>\n",
       "      <td>0.714574</td>\n",
       "      <td>0.990331</td>\n",
       "      <td>0.916603</td>\n",
       "      <td>0.801865</td>\n",
       "      <td>0.006858</td>\n",
       "      <td>0.001749</td>\n",
       "      <td>0.642988</td>\n",
       "      <td>0.998385</td>\n",
       "    </tr>\n",
       "    <tr>\n",
       "      <th>13607</th>\n",
       "      <td>42101</td>\n",
       "      <td>757.499</td>\n",
       "      <td>281.576392</td>\n",
       "      <td>190.713136</td>\n",
       "      <td>1.476439</td>\n",
       "      <td>0.735702</td>\n",
       "      <td>42494</td>\n",
       "      <td>231.526798</td>\n",
       "      <td>0.799943</td>\n",
       "      <td>0.990752</td>\n",
       "      <td>0.922015</td>\n",
       "      <td>0.822252</td>\n",
       "      <td>0.006688</td>\n",
       "      <td>0.001886</td>\n",
       "      <td>0.676099</td>\n",
       "      <td>0.998219</td>\n",
       "    </tr>\n",
       "    <tr>\n",
       "      <th>13608</th>\n",
       "      <td>42139</td>\n",
       "      <td>759.321</td>\n",
       "      <td>281.539928</td>\n",
       "      <td>191.187979</td>\n",
       "      <td>1.472582</td>\n",
       "      <td>0.734065</td>\n",
       "      <td>42569</td>\n",
       "      <td>231.631261</td>\n",
       "      <td>0.729932</td>\n",
       "      <td>0.989899</td>\n",
       "      <td>0.918424</td>\n",
       "      <td>0.822730</td>\n",
       "      <td>0.006681</td>\n",
       "      <td>0.001888</td>\n",
       "      <td>0.676884</td>\n",
       "      <td>0.996767</td>\n",
       "    </tr>\n",
       "    <tr>\n",
       "      <th>13609</th>\n",
       "      <td>42147</td>\n",
       "      <td>763.779</td>\n",
       "      <td>283.382636</td>\n",
       "      <td>190.275731</td>\n",
       "      <td>1.489326</td>\n",
       "      <td>0.741055</td>\n",
       "      <td>42667</td>\n",
       "      <td>231.653248</td>\n",
       "      <td>0.705389</td>\n",
       "      <td>0.987813</td>\n",
       "      <td>0.907906</td>\n",
       "      <td>0.817457</td>\n",
       "      <td>0.006724</td>\n",
       "      <td>0.001852</td>\n",
       "      <td>0.668237</td>\n",
       "      <td>0.995222</td>\n",
       "    </tr>\n",
       "    <tr>\n",
       "      <th>13610</th>\n",
       "      <td>42159</td>\n",
       "      <td>772.237</td>\n",
       "      <td>295.142741</td>\n",
       "      <td>182.204716</td>\n",
       "      <td>1.619841</td>\n",
       "      <td>0.786693</td>\n",
       "      <td>42600</td>\n",
       "      <td>231.686223</td>\n",
       "      <td>0.788962</td>\n",
       "      <td>0.989648</td>\n",
       "      <td>0.888380</td>\n",
       "      <td>0.784997</td>\n",
       "      <td>0.007001</td>\n",
       "      <td>0.001640</td>\n",
       "      <td>0.616221</td>\n",
       "      <td>0.998180</td>\n",
       "    </tr>\n",
       "  </tbody>\n",
       "</table>\n",
       "<p>13543 rows × 16 columns</p>\n",
       "</div>"
      ],
      "text/plain": [
       "        Area  Perimeter  MajorAxisLength  MinorAxisLength  AspectRation  \\\n",
       "0      28395    610.291       208.178117       173.888747      1.197191   \n",
       "1      28734    638.018       200.524796       182.734419      1.097356   \n",
       "2      29380    624.110       212.826130       175.931143      1.209713   \n",
       "3      30008    645.884       210.557999       182.516516      1.153638   \n",
       "4      30140    620.134       201.847882       190.279279      1.060798   \n",
       "...      ...        ...              ...              ...           ...   \n",
       "13606  42097    759.696       288.721612       185.944705      1.552728   \n",
       "13607  42101    757.499       281.576392       190.713136      1.476439   \n",
       "13608  42139    759.321       281.539928       191.187979      1.472582   \n",
       "13609  42147    763.779       283.382636       190.275731      1.489326   \n",
       "13610  42159    772.237       295.142741       182.204716      1.619841   \n",
       "\n",
       "       Eccentricity  ConvexArea  EquivDiameter    Extent  Solidity  roundness  \\\n",
       "0          0.549812       28715     190.141097  0.763923  0.988856   0.958027   \n",
       "1          0.411785       29172     191.272750  0.783968  0.984986   0.887034   \n",
       "2          0.562727       29690     193.410904  0.778113  0.989559   0.947849   \n",
       "3          0.498616       30724     195.467062  0.782681  0.976696   0.903936   \n",
       "4          0.333680       30417     195.896503  0.773098  0.990893   0.984877   \n",
       "...             ...         ...            ...       ...       ...        ...   \n",
       "13606      0.765002       42508     231.515799  0.714574  0.990331   0.916603   \n",
       "13607      0.735702       42494     231.526798  0.799943  0.990752   0.922015   \n",
       "13608      0.734065       42569     231.631261  0.729932  0.989899   0.918424   \n",
       "13609      0.741055       42667     231.653248  0.705389  0.987813   0.907906   \n",
       "13610      0.786693       42600     231.686223  0.788962  0.989648   0.888380   \n",
       "\n",
       "       Compactness  ShapeFactor1  ShapeFactor2  ShapeFactor3  ShapeFactor4  \n",
       "0         0.913358      0.007332      0.003147      0.834222      0.998724  \n",
       "1         0.953861      0.006979      0.003564      0.909851      0.998430  \n",
       "2         0.908774      0.007244      0.003048      0.825871      0.999066  \n",
       "3         0.928329      0.007017      0.003215      0.861794      0.994199  \n",
       "4         0.970516      0.006697      0.003665      0.941900      0.999166  \n",
       "...            ...           ...           ...           ...           ...  \n",
       "13606     0.801865      0.006858      0.001749      0.642988      0.998385  \n",
       "13607     0.822252      0.006688      0.001886      0.676099      0.998219  \n",
       "13608     0.822730      0.006681      0.001888      0.676884      0.996767  \n",
       "13609     0.817457      0.006724      0.001852      0.668237      0.995222  \n",
       "13610     0.784997      0.007001      0.001640      0.616221      0.998180  \n",
       "\n",
       "[13543 rows x 16 columns]"
      ]
     },
     "execution_count": 16,
     "metadata": {},
     "output_type": "execute_result"
    }
   ],
   "source": [
    "x"
   ]
  },
  {
   "cell_type": "code",
   "execution_count": 17,
   "id": "e4820461",
   "metadata": {},
   "outputs": [
    {
     "data": {
      "text/html": [
       "<div>\n",
       "<style scoped>\n",
       "    .dataframe tbody tr th:only-of-type {\n",
       "        vertical-align: middle;\n",
       "    }\n",
       "\n",
       "    .dataframe tbody tr th {\n",
       "        vertical-align: top;\n",
       "    }\n",
       "\n",
       "    .dataframe thead th {\n",
       "        text-align: right;\n",
       "    }\n",
       "</style>\n",
       "<table border=\"1\" class=\"dataframe\">\n",
       "  <thead>\n",
       "    <tr style=\"text-align: right;\">\n",
       "      <th></th>\n",
       "      <th>Class</th>\n",
       "    </tr>\n",
       "  </thead>\n",
       "  <tbody>\n",
       "    <tr>\n",
       "      <th>0</th>\n",
       "      <td>5</td>\n",
       "    </tr>\n",
       "    <tr>\n",
       "      <th>1</th>\n",
       "      <td>5</td>\n",
       "    </tr>\n",
       "    <tr>\n",
       "      <th>2</th>\n",
       "      <td>5</td>\n",
       "    </tr>\n",
       "    <tr>\n",
       "      <th>3</th>\n",
       "      <td>5</td>\n",
       "    </tr>\n",
       "    <tr>\n",
       "      <th>4</th>\n",
       "      <td>5</td>\n",
       "    </tr>\n",
       "    <tr>\n",
       "      <th>...</th>\n",
       "      <td>...</td>\n",
       "    </tr>\n",
       "    <tr>\n",
       "      <th>13606</th>\n",
       "      <td>3</td>\n",
       "    </tr>\n",
       "    <tr>\n",
       "      <th>13607</th>\n",
       "      <td>3</td>\n",
       "    </tr>\n",
       "    <tr>\n",
       "      <th>13608</th>\n",
       "      <td>3</td>\n",
       "    </tr>\n",
       "    <tr>\n",
       "      <th>13609</th>\n",
       "      <td>3</td>\n",
       "    </tr>\n",
       "    <tr>\n",
       "      <th>13610</th>\n",
       "      <td>3</td>\n",
       "    </tr>\n",
       "  </tbody>\n",
       "</table>\n",
       "<p>13543 rows × 1 columns</p>\n",
       "</div>"
      ],
      "text/plain": [
       "       Class\n",
       "0          5\n",
       "1          5\n",
       "2          5\n",
       "3          5\n",
       "4          5\n",
       "...      ...\n",
       "13606      3\n",
       "13607      3\n",
       "13608      3\n",
       "13609      3\n",
       "13610      3\n",
       "\n",
       "[13543 rows x 1 columns]"
      ]
     },
     "execution_count": 17,
     "metadata": {},
     "output_type": "execute_result"
    }
   ],
   "source": [
    "y"
   ]
  },
  {
   "cell_type": "code",
   "execution_count": 18,
   "id": "cfe36deb",
   "metadata": {},
   "outputs": [],
   "source": [
    "x = SelectKBest(chi2, k=12).fit_transform(x, y)"
   ]
  },
  {
   "cell_type": "code",
   "execution_count": 19,
   "id": "55a122af",
   "metadata": {},
   "outputs": [],
   "source": [
    "x_train, x_test, y_train, y_test = train_test_split(x,y,test_size = 0.33, random_state = 42)"
   ]
  },
  {
   "cell_type": "code",
   "execution_count": 20,
   "id": "b679f276",
   "metadata": {},
   "outputs": [],
   "source": [
    "standardscaler = StandardScaler()\n",
    "x_train = standardscaler.fit_transform(x_train)\n",
    "x_test = standardscaler.transform(x_test)"
   ]
  },
  {
   "cell_type": "markdown",
   "id": "495a46ec",
   "metadata": {},
   "source": [
    "# KNN"
   ]
  },
  {
   "cell_type": "code",
   "execution_count": 21,
   "id": "8382cc60",
   "metadata": {},
   "outputs": [
    {
     "data": {
      "text/plain": [
       "array([5, 0, 3, ..., 2, 4, 2])"
      ]
     },
     "execution_count": 21,
     "metadata": {},
     "output_type": "execute_result"
    }
   ],
   "source": [
    "knn = KNeighborsClassifier(n_neighbors = 35, metric = 'manhattan')\n",
    "knn.fit(x_train,y_train.values.ravel())\n",
    "y_predict = knn.predict(x_test)\n",
    "y_predict"
   ]
  },
  {
   "cell_type": "code",
   "execution_count": 22,
   "id": "f35200db",
   "metadata": {},
   "outputs": [
    {
     "data": {
      "text/plain": [
       "0.9087248322147651"
      ]
     },
     "execution_count": 22,
     "metadata": {},
     "output_type": "execute_result"
    }
   ],
   "source": [
    "accuracy = accuracy_score(y_test,y_predict)\n",
    "accuracy"
   ]
  },
  {
   "cell_type": "code",
   "execution_count": 23,
   "id": "9c3227c1",
   "metadata": {},
   "outputs": [
    {
     "data": {
      "text/plain": [
       "array([[ 363,    0,   61,    0,    1,    6,   16],\n",
       "       [   0,  177,    0,    0,    0,    0,    0],\n",
       "       [  17,    0,  499,    0,    8,    1,    7],\n",
       "       [   0,    0,    0, 1054,    2,   20,   76],\n",
       "       [   3,    0,    9,    4,  584,    0,   21],\n",
       "       [   2,    0,    0,   17,    0,  624,   21],\n",
       "       [   2,    0,    2,   87,   12,   13,  761]], dtype=int64)"
      ]
     },
     "execution_count": 23,
     "metadata": {},
     "output_type": "execute_result"
    }
   ],
   "source": [
    "cm = confusion_matrix(y_test,y_predict)\n",
    "cm"
   ]
  },
  {
   "cell_type": "markdown",
   "id": "b2203d46",
   "metadata": {},
   "source": [
    "# GAUSSİANNAİVEBAYES"
   ]
  },
  {
   "cell_type": "code",
   "execution_count": 24,
   "id": "49b286a6",
   "metadata": {},
   "outputs": [
    {
     "data": {
      "text/plain": [
       "array([5, 0, 3, ..., 2, 4, 2])"
      ]
     },
     "execution_count": 24,
     "metadata": {},
     "output_type": "execute_result"
    }
   ],
   "source": [
    "gnb = GaussianNB()\n",
    "gnb.fit(x_train,y_train.values.ravel())\n",
    "y_predict = gnb.predict(x_test)\n",
    "y_predict"
   ]
  },
  {
   "cell_type": "code",
   "execution_count": 25,
   "id": "0bcf2be1",
   "metadata": {},
   "outputs": [
    {
     "data": {
      "text/plain": [
       "0.8868008948545861"
      ]
     },
     "execution_count": 25,
     "metadata": {},
     "output_type": "execute_result"
    }
   ],
   "source": [
    "accuracy = accuracy_score(y_test,y_predict)\n",
    "accuracy"
   ]
  },
  {
   "cell_type": "code",
   "execution_count": 26,
   "id": "5b3072e3",
   "metadata": {},
   "outputs": [
    {
     "data": {
      "text/plain": [
       "array([[354,   0,  73,   0,   1,   2,  17],\n",
       "       [  0, 177,   0,   0,   0,   0,   0],\n",
       "       [ 48,   1, 472,   0,   8,   1,   2],\n",
       "       [  0,   0,   0, 996,   2,  29, 125],\n",
       "       [  5,   0,   6,   6, 593,   0,  11],\n",
       "       [  8,   0,   0,   8,   0, 622,  26],\n",
       "       [ 10,   0,   4,  67,  26,  20, 750]], dtype=int64)"
      ]
     },
     "execution_count": 26,
     "metadata": {},
     "output_type": "execute_result"
    }
   ],
   "source": [
    "cm = confusion_matrix(y_test,y_predict)\n",
    "cm"
   ]
  },
  {
   "cell_type": "markdown",
   "id": "94a9339c",
   "metadata": {},
   "source": [
    "# LOGİSTİC REGRESSİON"
   ]
  },
  {
   "cell_type": "code",
   "execution_count": 27,
   "id": "7997fa5f",
   "metadata": {},
   "outputs": [
    {
     "data": {
      "text/plain": [
       "array([5, 0, 3, ..., 2, 4, 2])"
      ]
     },
     "execution_count": 27,
     "metadata": {},
     "output_type": "execute_result"
    }
   ],
   "source": [
    "logisticreg = LogisticRegression(random_state=0,solver='lbfgs', max_iter=1000)\n",
    "logisticreg.fit(x_train,y_train.values.ravel())\n",
    "y_predict = logisticreg.predict(x_test)\n",
    "y_predict"
   ]
  },
  {
   "cell_type": "code",
   "execution_count": 28,
   "id": "0b1a9e0f",
   "metadata": {},
   "outputs": [
    {
     "data": {
      "text/plain": [
       "0.9098434004474273"
      ]
     },
     "execution_count": 28,
     "metadata": {},
     "output_type": "execute_result"
    }
   ],
   "source": [
    "accuracy = accuracy_score(y_test,y_predict)\n",
    "accuracy"
   ]
  },
  {
   "cell_type": "code",
   "execution_count": 29,
   "id": "60d0097b",
   "metadata": {},
   "outputs": [
    {
     "data": {
      "text/plain": [
       "array([[ 392,    0,   36,    0,    1,    3,   15],\n",
       "       [   0,  177,    0,    0,    0,    0,    0],\n",
       "       [  22,    0,  493,    0,    8,    1,    8],\n",
       "       [   0,    0,    0, 1043,    2,   17,   90],\n",
       "       [   2,    0,    6,    6,  594,    0,   13],\n",
       "       [   6,    0,    0,   16,    0,  620,   22],\n",
       "       [   4,    0,    2,   77,   24,   22,  748]], dtype=int64)"
      ]
     },
     "execution_count": 29,
     "metadata": {},
     "output_type": "execute_result"
    }
   ],
   "source": [
    "cm = confusion_matrix(y_test,y_predict)\n",
    "cm"
   ]
  },
  {
   "cell_type": "markdown",
   "id": "e9d5f684",
   "metadata": {},
   "source": [
    "# SUPPORT VECTOR MACHİNE"
   ]
  },
  {
   "cell_type": "code",
   "execution_count": 30,
   "id": "6f8f2ab1",
   "metadata": {},
   "outputs": [
    {
     "data": {
      "text/plain": [
       "array([5, 0, 3, ..., 2, 4, 2])"
      ]
     },
     "execution_count": 30,
     "metadata": {},
     "output_type": "execute_result"
    }
   ],
   "source": [
    "supportvector = SVC(kernel=\"rbf\")\n",
    "supportvector.fit(x_train,y_train.values.ravel())\n",
    "y_predict = supportvector.predict(x_test)\n",
    "y_predict"
   ]
  },
  {
   "cell_type": "code",
   "execution_count": 31,
   "id": "8248a375",
   "metadata": {},
   "outputs": [
    {
     "data": {
      "text/plain": [
       "0.9145413870246085"
      ]
     },
     "execution_count": 31,
     "metadata": {},
     "output_type": "execute_result"
    }
   ],
   "source": [
    "accuracy = accuracy_score(y_test,y_predict)\n",
    "accuracy"
   ]
  },
  {
   "cell_type": "code",
   "execution_count": 32,
   "id": "66481bf3",
   "metadata": {},
   "outputs": [
    {
     "data": {
      "text/plain": [
       "array([[ 384,    0,   46,    0,    2,    4,   11],\n",
       "       [   0,  177,    0,    0,    0,    0,    0],\n",
       "       [  18,    0,  499,    0,    8,    1,    6],\n",
       "       [   0,    0,    0, 1058,    3,   13,   78],\n",
       "       [   3,    0,    8,    4,  586,    0,   20],\n",
       "       [   5,    0,    0,   20,    0,  620,   19],\n",
       "       [   4,    0,    0,   79,   15,   15,  764]], dtype=int64)"
      ]
     },
     "execution_count": 32,
     "metadata": {},
     "output_type": "execute_result"
    }
   ],
   "source": [
    "cm = confusion_matrix(y_test,y_predict)\n",
    "cm"
   ]
  },
  {
   "cell_type": "markdown",
   "id": "edefb5fa",
   "metadata": {},
   "source": [
    "# RANDOM FOREST"
   ]
  },
  {
   "cell_type": "code",
   "execution_count": 33,
   "id": "93781cbe",
   "metadata": {},
   "outputs": [],
   "source": [
    "randomforest = RandomForestClassifier(criterion = 'entropy',n_estimators = 10,random_state = 42)\n",
    "randomforest.fit(x_train,y_train.values.ravel())\n",
    "y_predict = randomforest.predict(x_test)"
   ]
  },
  {
   "cell_type": "code",
   "execution_count": 34,
   "id": "fee13cc1",
   "metadata": {},
   "outputs": [
    {
     "data": {
      "text/plain": [
       "0.9049217002237137"
      ]
     },
     "execution_count": 34,
     "metadata": {},
     "output_type": "execute_result"
    }
   ],
   "source": [
    "accuracy = accuracy_score(y_test,y_predict)\n",
    "accuracy"
   ]
  },
  {
   "cell_type": "code",
   "execution_count": 35,
   "id": "e7adbf9e",
   "metadata": {},
   "outputs": [
    {
     "data": {
      "text/plain": [
       "array([[ 390,    0,   44,    0,    2,    2,    9],\n",
       "       [   1,  176,    0,    0,    0,    0,    0],\n",
       "       [  31,    0,  485,    0,    9,    1,    6],\n",
       "       [   0,    0,    0, 1070,    2,   19,   61],\n",
       "       [   5,    0,    9,    5,  583,    0,   19],\n",
       "       [   8,    0,    1,   23,    0,  610,   22],\n",
       "       [   6,    0,    2,   96,   19,   23,  731]], dtype=int64)"
      ]
     },
     "execution_count": 35,
     "metadata": {},
     "output_type": "execute_result"
    }
   ],
   "source": [
    "cm = confusion_matrix(y_test,y_predict)\n",
    "cm"
   ]
  },
  {
   "cell_type": "markdown",
   "id": "58db20d2",
   "metadata": {},
   "source": [
    "# DECİSİON TREE"
   ]
  },
  {
   "cell_type": "code",
   "execution_count": 36,
   "id": "58338d83",
   "metadata": {},
   "outputs": [],
   "source": [
    "decisiontree = DecisionTreeClassifier(criterion = 'entropy',random_state=42)\n",
    "decisiontree.fit(x_train,y_train.values.ravel())\n",
    "y_predict = decisiontree.predict(x_test)"
   ]
  },
  {
   "cell_type": "code",
   "execution_count": 37,
   "id": "38587ef4",
   "metadata": {},
   "outputs": [
    {
     "data": {
      "text/plain": [
       "0.8825503355704698"
      ]
     },
     "execution_count": 37,
     "metadata": {},
     "output_type": "execute_result"
    }
   ],
   "source": [
    "accuracy = accuracy_score(y_test,y_predict)\n",
    "accuracy"
   ]
  },
  {
   "cell_type": "code",
   "execution_count": 38,
   "id": "bc9aae4c",
   "metadata": {},
   "outputs": [
    {
     "data": {
      "text/plain": [
       "array([[ 380,    0,   50,    0,    2,    7,    8],\n",
       "       [   1,  176,    0,    0,    0,    0,    0],\n",
       "       [  32,    0,  477,    0,   17,    1,    5],\n",
       "       [   1,    0,    0, 1030,    7,   18,   96],\n",
       "       [   5,    0,   13,    5,  581,    1,   16],\n",
       "       [  10,    0,    0,   36,    0,  592,   26],\n",
       "       [   8,    0,    4,  101,   20,   35,  709]], dtype=int64)"
      ]
     },
     "execution_count": 38,
     "metadata": {},
     "output_type": "execute_result"
    }
   ],
   "source": [
    "cm = confusion_matrix(y_test,y_predict)\n",
    "cm"
   ]
  }
 ],
 "metadata": {
  "kernelspec": {
   "display_name": "base",
   "language": "python",
   "name": "python3"
  },
  "language_info": {
   "codemirror_mode": {
    "name": "ipython",
    "version": 3
   },
   "file_extension": ".py",
   "mimetype": "text/x-python",
   "name": "python",
   "nbconvert_exporter": "python",
   "pygments_lexer": "ipython3",
   "version": "3.12.7"
  }
 },
 "nbformat": 4,
 "nbformat_minor": 5
}
